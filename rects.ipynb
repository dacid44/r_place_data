{
 "cells": [
  {
   "cell_type": "code",
   "execution_count": 16,
   "id": "fbafa04b",
   "metadata": {},
   "outputs": [],
   "source": [
    "import itertools\n",
    "import time\n",
    "\n",
    "from PIL import Image, ImageDraw, ImageOps\n",
    "from matplotlib.colors import to_rgba_array\n",
    "import numpy as np\n",
    "\n",
    "import r_place_data as rpd"
   ]
  },
  {
   "cell_type": "code",
   "execution_count": 2,
   "id": "48c0db5b",
   "metadata": {},
   "outputs": [],
   "source": [
    "# t1 = time.perf_counter()\n",
    "# rects = rpd.find_rects()\n",
    "# t2 = time.perf_counter()\n",
    "# t_delta_find_rects = t2 - t1\n",
    "# t_delta_find_rects"
   ]
  },
  {
   "cell_type": "code",
   "execution_count": 3,
   "id": "16575102",
   "metadata": {},
   "outputs": [],
   "source": [
    "rects = [((251, 1805, 296, 1812), 1649027436803),\n",
    " ((1349, 1718, 1424, 1752), 1649035370891),\n",
    " ((298, 1805, 329, 1839), 1649027104703),\n",
    " ((297, 1750, 364, 1813), 1649028592139),\n",
    " ((1371, 1438, 1418, 1472), 1649100589559),\n",
    " ((23, 1523, 172, 1792), 1649045540372),\n",
    " ((1372, 1472, 1406, 1497), 1649100589900),\n",
    " ((862, 540, 873, 545), 1648824383652),\n",
    " ((271, 1835, 296, 1859), 1649027571382),\n",
    " ((51, 1691, 154, 1807), 1649046581896),\n",
    " ((44, 1652, 165, 1899), 1649045770416),\n",
    " ((551, 1311, 562, 1342), 1649087913239),\n",
    " ((1373, 1400, 1419, 1436), 1649100589200),\n",
    " ((547, 1330, 550, 1342), 1649087950926),\n",
    " ((871, 546, 878, 550), 1648824399702),\n",
    " ((1375, 1355, 1424, 1399), 1649100590051),\n",
    " ((862, 540, 868, 544), 1648824248158),\n",
    " ((257, 1736, 296, 1780), 1649027330038),\n",
    " ((298, 1770, 334, 1803), 1649027009930)]"
   ]
  },
  {
   "cell_type": "code",
   "execution_count": 4,
   "id": "1700cfc2",
   "metadata": {},
   "outputs": [
    {
     "data": {
      "text/plain": [
       "163.7034513240069"
      ]
     },
     "execution_count": 4,
     "metadata": {},
     "output_type": "execute_result"
    }
   ],
   "source": [
    "t1 = time.perf_counter()\n",
    "# before_rects = rpd.find_before_rects(list(map(lambda x: (x.location, x.timestamp), rects)))\n",
    "before_rects = rpd.find_before_rects(rects)\n",
    "t2 = time.perf_counter()\n",
    "t_delta_find_before_rects = t2 - t1\n",
    "t_delta_find_before_rects"
   ]
  },
  {
   "cell_type": "code",
   "execution_count": 91,
   "id": "ca10a787",
   "metadata": {},
   "outputs": [],
   "source": [
    "def get_image(pixel_list):\n",
    "    ret = np.array([np.array(to_rgba_array([pixel.color if pixel else \"#FFFFFF\" for pixel in row])) for row in pixel_list])\n",
    "    ret = (ret * 255).astype(np.uint8)\n",
    "    return Image.fromarray(ret, mode=\"RGBA\")"
   ]
  },
  {
   "cell_type": "code",
   "execution_count": 81,
   "id": "0901bc64",
   "metadata": {},
   "outputs": [],
   "source": [
    "pixels = np.array([np.array(to_rgba_array([pixel.color if pixel else \"FFFFFF\" for pixel in row])) for row in before_rects[5][1]])\n",
    "pixels = (pixels * 255).astype(np.uint8)"
   ]
  },
  {
   "cell_type": "code",
   "execution_count": 84,
   "id": "e5ebdb8d",
   "metadata": {},
   "outputs": [],
   "source": [
    "img = Image.fromarray(pixels, mode=\"RGBA\")\n",
    "imgl = img.load()"
   ]
  },
  {
   "cell_type": "code",
   "execution_count": 131,
   "id": "a61bf1f1",
   "metadata": {},
   "outputs": [],
   "source": [
    "# img = Image.open(\"final_place.png\")\n",
    "img = Image.new(\"RGBA\", (2000, 2000), (255, 255, 255, 255))\n",
    "for rect, data in before_rects:\n",
    "    img.paste(get_image(data), box=(rect[0], rect[1]))"
   ]
  },
  {
   "cell_type": "code",
   "execution_count": 126,
   "id": "dccfcaf4",
   "metadata": {},
   "outputs": [],
   "source": [
    "overlay = Image.new('RGBA', img.size, (0, 0, 0, 0))\n",
    "draw = ImageDraw.Draw(overlay)\n",
    "\n",
    "for rect, ts in rects:\n",
    "    draw.rectangle(\n",
    "        (rect[0], rect[1], rect[2], rect[3]),\n",
    "        outline=\"red\",\n",
    "        fill=(255, 255, 255, 0),\n",
    "        width=1,\n",
    "    )\n",
    "img = Image.composite(img, overlay, ImageOps.invert(overlay.split()[-1]))"
   ]
  },
  {
   "cell_type": "code",
   "execution_count": 132,
   "id": "48e9dfe8",
   "metadata": {},
   "outputs": [],
   "source": [
    "img.save(\"before_rects3.png\")"
   ]
  },
  {
   "cell_type": "code",
   "execution_count": null,
   "id": "b48669e3",
   "metadata": {},
   "outputs": [],
   "source": []
  }
 ],
 "metadata": {
  "kernelspec": {
   "display_name": "Python 3 (ipykernel)",
   "language": "python",
   "name": "python3"
  },
  "language_info": {
   "codemirror_mode": {
    "name": "ipython",
    "version": 3
   },
   "file_extension": ".py",
   "mimetype": "text/x-python",
   "name": "python",
   "nbconvert_exporter": "python",
   "pygments_lexer": "ipython3",
   "version": "3.10.4"
  }
 },
 "nbformat": 4,
 "nbformat_minor": 5
}
